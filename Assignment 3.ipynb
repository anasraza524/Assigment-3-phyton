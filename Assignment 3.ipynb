{
 "cells": [
  {
   "cell_type": "code",
   "execution_count": 1,
   "id": "e6f7f443",
   "metadata": {},
   "outputs": [
    {
     "name": "stdout",
     "output_type": "stream",
     "text": [
      "twinkle,twinkle, little star,\n",
      "        How I wonder what you are!\n",
      "                Up above the world so high,\n",
      "                Like a diamond in the sky,\n",
      " tnkle, twinkle, little star,\n",
      "        How I wonder what you are\n"
     ]
    }
   ],
   "source": [
    "# 1.Write a Python program to print the following string in a specific format (see the \n",
    "#   output).\n",
    "\n",
    "print(\"twinkle,twinkle, little star,\\n\",\"       How I wonder what you are!\\n\"\"                Up above the world so high,\\n\",\"               Like a diamond in the sky,\\n\",\"tnkle, twinkle, little star,\\n\",\"       How I wonder what you are\")"
   ]
  },
  {
   "cell_type": "code",
   "execution_count": 2,
   "id": "27eaf94a",
   "metadata": {},
   "outputs": [
    {
     "name": "stdout",
     "output_type": "stream",
     "text": [
      "Phyton Version: 3.8.8 (default, Apr 13 2021, 15:08:03) [MSC v.1916 64 bit (AMD64)]\n"
     ]
    }
   ],
   "source": [
    "# 2.Write a Python program to get the Python version you are using.\n",
    "\n",
    "import sys\n",
    "print(\"Phyton Version:\",sys.version)"
   ]
  },
  {
   "cell_type": "code",
   "execution_count": 6,
   "id": "12808f89",
   "metadata": {},
   "outputs": [
    {
     "name": "stdout",
     "output_type": "stream",
     "text": [
      "Current Date is:  2021-10-23 \n",
      "Current Time is:  09:55:25.800174\n"
     ]
    }
   ],
   "source": [
    "# 3.Write a Python program to display the current date and time.\n",
    "\n",
    "import datetime as dt\n",
    "p = dt.datetime.today()\n",
    "print(\"Current Date is: \" ,p.date(),\"\\nCurrent Time is: \",p.time())\n"
   ]
  },
  {
   "cell_type": "code",
   "execution_count": 8,
   "id": "8ba24ab9",
   "metadata": {},
   "outputs": [
    {
     "name": "stdout",
     "output_type": "stream",
     "text": [
      "Enter Radius of Circle: 8.9\n",
      "Area =  248.87782 m²\n"
     ]
    }
   ],
   "source": [
    "# 4.Write a Python program which accepts the radius of a circle from the user and compute \n",
    "#   the area.\n",
    "\n",
    "A = float(input(\"Enter Radius of Circle: \"));\n",
    "cal = 3.142 * (A**2);\n",
    "print(\"Area = \",cal,\"m²\");"
   ]
  },
  {
   "cell_type": "code",
   "execution_count": 11,
   "id": "02e6e446",
   "metadata": {},
   "outputs": [
    {
     "name": "stdout",
     "output_type": "stream",
     "text": [
      "First Name Hafiz Muhammad Anas Raza\n",
      "Last Name Siddiqui\n",
      "Siddiqui Hafiz Muhammad Anas Raza\n"
     ]
    }
   ],
   "source": [
    "# 5.Write a Python program which accepts the user's first and last name and print them in \n",
    "#   reverse order with a space between them.\n",
    "\n",
    "A = input(\"First Name \");\n",
    "B = input(\"Last Name \");\n",
    "print(B+ \" \" + A);"
   ]
  },
  {
   "cell_type": "code",
   "execution_count": 13,
   "id": "079dd102",
   "metadata": {},
   "outputs": [
    {
     "name": "stdout",
     "output_type": "stream",
     "text": [
      "One Line: I Will be future owner of Software house\n",
      "Second Line: InshAllah you Will be\n",
      "I Will be future owner of Software houseInshAllah you Will be\n"
     ]
    }
   ],
   "source": [
    "# 6.Write a python program which takes two inputs from user and print them addition.\n",
    "\n",
    "a = input(\"One Line: \");\n",
    "b = input(\"Second Line: \");\n",
    "print(a + b);"
   ]
  },
  {
   "cell_type": "code",
   "execution_count": 22,
   "id": "b763285c",
   "metadata": {},
   "outputs": [
    {
     "name": "stdout",
     "output_type": "stream",
     "text": [
      "Candidate Name: Hafiz Muhammad Anas Raza Siddiqui\n",
      "Math num: 80\n",
      "Physic num: 76\n",
      "Computer num: 90\n",
      "English num: 70\n",
      "Urdu num: 70\n",
      "Total : 386\n",
      "Per % :  77.2\n",
      "[Grade A]\n"
     ]
    }
   ],
   "source": [
    "# 7.Write a program which takes 5 inputs from user for different subject’s marks, total it \n",
    "#   and generate mark sheet using grades ?\n",
    "\n",
    "Name = input(\"Candidate Name: \");\n",
    "Math =int(input(\"Math num: \"));\n",
    "Physic =int(input(\"Physic num: \"));\n",
    "Computer =int(input(\"Computer num: \"));\n",
    "English =int(input(\"English num: \"));\n",
    "Urdu =int(input(\"Urdu num: \"));\n",
    "Total = Math + English + Physic + Computer + Urdu ;\n",
    "print(\"Total :\",Total);\n",
    "\n",
    "per = Total/500*100  ;\n",
    "print(\"Per % : \", per);\n",
    "\n",
    "if   per > 80 and per < 100:\n",
    "        print(\"[Grade A+]\");\n",
    "elif per > 70 and per < 80:\n",
    "        print(\"[Grade A]\");\n",
    "elif per > 60 and per < 70:\n",
    "        print(\"[Grade B]\");\n",
    "elif per > 50 and per < 60:\n",
    "        print(\"[Grade C]\");\n",
    "elif per > 40 and per < 50:\n",
    "        print(\"[Grade D]\");\n",
    "elif per > 33 and per < 40:\n",
    "        print(\"[Grade E]\");         \n",
    "else: \n",
    "        print(\"[Fail]\");"
   ]
  },
  {
   "cell_type": "code",
   "execution_count": 15,
   "id": "24d091c5",
   "metadata": {},
   "outputs": [
    {
     "name": "stdout",
     "output_type": "stream",
     "text": [
      "Your Number: 85\n",
      "85 is a Odd Number\n"
     ]
    }
   ],
   "source": [
    "# 8.Write a program which take input from user and identify that the given number is even \n",
    "#   or odd?\n",
    "\n",
    "num = int(input(\"Your Number: \"));\n",
    "rel = num % 2;\n",
    "if (rel == 0):\n",
    "    print(num, \"is Even Number\");\n",
    "else :\n",
    "    print(num, \"is a Odd Number\");\n",
    "    "
   ]
  },
  {
   "cell_type": "code",
   "execution_count": 16,
   "id": "d4b7cd17",
   "metadata": {},
   "outputs": [
    {
     "name": "stdout",
     "output_type": "stream",
     "text": [
      "Lenght of list is  10\n"
     ]
    }
   ],
   "source": [
    "# 9.Write a program which print the length of the list?\n",
    "\n",
    "n = len([1,5,65,5,48,5,4,465,\"Anas\",False]);\n",
    "print(\"Lenght of list is \",n)"
   ]
  },
  {
   "cell_type": "code",
   "execution_count": 18,
   "id": "e7b8deae",
   "metadata": {},
   "outputs": [
    {
     "name": "stdout",
     "output_type": "stream",
     "text": [
      "Sum of list is:  6286\n"
     ]
    }
   ],
   "source": [
    "# 10.Write a Python program to sum all the numeric items in a list?\n",
    "\n",
    "list = [45,54,6,42,465,456,4654,564]\n",
    "total =sum(list)\n",
    "print(\"Sum of list is: \", total);\n"
   ]
  },
  {
   "cell_type": "code",
   "execution_count": 19,
   "id": "000bfdfc",
   "metadata": {},
   "outputs": [
    {
     "name": "stdout",
     "output_type": "stream",
     "text": [
      "Smallest number in list is:  3 \n",
      "Largest number in list is:  87\n"
     ]
    }
   ],
   "source": [
    "# 11.Write a Python program to get the largest number from a numeric list.\n",
    "\n",
    "price = [45,58,78,86,3,5,45,57,87,45,6,42];\n",
    "print(\"Smallest number in list is: \",min(price),\"\\nLargest number in list is: \",max(price))"
   ]
  },
  {
   "cell_type": "code",
   "execution_count": 20,
   "id": "d72532da",
   "metadata": {},
   "outputs": [
    {
     "name": "stdout",
     "output_type": "stream",
     "text": [
      "1\n",
      "1\n",
      "2\n",
      "3\n"
     ]
    }
   ],
   "source": [
    "# 12.Take a list, say for example this one: \n",
    "#    a = [1, 1, 2, 3, 5, 8, 13, 21, 34, 55, 89] \n",
    "#    Write a program that prints out all the elements of the list that are less than 5.\n",
    "\n",
    "list =  [1, 1, 2, 3, 5, 8, 13, 21, 34, 55, 89]\n",
    "\n",
    "for i in list:\n",
    "    if  i<5:\n",
    "       \n",
    "        print(i);"
   ]
  },
  {
   "cell_type": "code",
   "execution_count": null,
   "id": "6af52ee7",
   "metadata": {},
   "outputs": [],
   "source": []
  }
 ],
 "metadata": {
  "kernelspec": {
   "display_name": "Python 3",
   "language": "python",
   "name": "python3"
  },
  "language_info": {
   "codemirror_mode": {
    "name": "ipython",
    "version": 3
   },
   "file_extension": ".py",
   "mimetype": "text/x-python",
   "name": "python",
   "nbconvert_exporter": "python",
   "pygments_lexer": "ipython3",
   "version": "3.8.8"
  }
 },
 "nbformat": 4,
 "nbformat_minor": 5
}
